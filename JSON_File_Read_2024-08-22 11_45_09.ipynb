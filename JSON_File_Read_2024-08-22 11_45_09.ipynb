{
 "cells": [
  {
   "cell_type": "code",
   "execution_count": 0,
   "metadata": {
    "application/vnd.databricks.v1+cell": {
     "cellMetadata": {
      "byteLimit": 2048000,
      "rowLimit": 10000
     },
     "inputWidgets": {},
     "nuid": "01f327b6-eeac-479f-a6be-41c8aea7d654",
     "showTitle": false,
     "title": ""
    }
   },
   "outputs": [],
   "source": [
    "##/FileStore/tables/fcf64afd_c163_44dd_b7de_7f753a74a683.json"
   ]
  },
  {
   "cell_type": "code",
   "execution_count": 0,
   "metadata": {
    "application/vnd.databricks.v1+cell": {
     "cellMetadata": {
      "byteLimit": 2048000,
      "rowLimit": 10000
     },
     "inputWidgets": {},
     "nuid": "e28498f2-d59e-4bd1-a988-81f8a9eff983",
     "showTitle": false,
     "title": ""
    }
   },
   "outputs": [],
   "source": [
    "df = spark.read.format(\"json\")\\\n",
    "    .option(\"multiline\",\"true\")\\\n",
    "        .option(\"inferSchema\",\"true\")\\\n",
    "            .option(\"header\",\"true\")\\\n",
    "                .load(\"/FileStore/tables/fcf64afd_c163_44dd_b7de_7f753a74a683.json\")"
   ]
  },
  {
   "cell_type": "code",
   "execution_count": 0,
   "metadata": {
    "application/vnd.databricks.v1+cell": {
     "cellMetadata": {
      "byteLimit": 2048000,
      "rowLimit": 10000
     },
     "inputWidgets": {},
     "nuid": "e5862a32-0ac5-4ee5-8df7-22928c0fc960",
     "showTitle": false,
     "title": ""
    }
   },
   "outputs": [
    {
     "output_type": "stream",
     "name": "stdout",
     "output_type": "stream",
     "text": [
      "+---------+---------+--------------------+-----------+--------------------+--------------------+--------------------+--------------------+-----------+-----------+-------+--------------------+---------------+\n|   ImdbId|      _id|                cast|certificate|            director|               genre|                name|          poster_url|ratingCount|ratingValue|runtime|        summary_text|           year|\n+---------+---------+--------------------+-----------+--------------------+--------------------+--------------------+--------------------+-----------+-----------+-------+--------------------+---------------+\n|tt6502648|tt6502648|[{Damon Atkinson,...|           |{Charles Cardello...|             [Music]|Braid: Killing a ...|https://m.media-a...|           |           |       |          Add a Plot|           2004|\n|tt6502600|tt6502600|                  []|           |{Paul Hyett, nm04...|            [Horror]|              Spider|https://m.media-a...|           |           |       |A team of experts...|             II|\n|tt6502564|tt6502564|                  []|           |{Morgan Wilcock, ...|             [Drama]|        Kill or Kiss|https://m.media-a...|           |           |       |An aspiring write...|               |\n|tt6502524|tt6502524|[{Gabrielle Areva...|           |{Mathew Bonta, nm...|             [Crime]|       Street Toughs|https://m.media-a...|           |           |113 min|A stranger breaks...|           2017|\n|tt6502398|tt6502398|                null|           |                null|       [Documentary]|The Secret Histor...|https://m.media-a...|           |           | 45 min|BBC journalist an...|  2017 TV Movie|\n|tt6502370|tt6502370|                  []|           |{Cameron Grimm, n...|  [Crime,  Thriller]|          The Secret|https://m.media-a...|           |           |       |          Add a Plot|             IV|\n|tt6502348|tt6502348|[{Saeed Rad, nm07...|           |{Mahmoud Kushan, ...|                  []|     Sokoot-e bozorg|https://m.media-a...|           |           |       |          Add a Plot|           1977|\n|tt6502334|tt6502334|[{Kreyol Wa, nm59...|           |{Perry Cassagnol,...|             [Drama]|              Doub 6|https://m.media-a...|           |           |       |Benny is a man wh...|           2017|\n|tt6502322|tt6502322|                null|           |                null|                  []|             Lullaby|https://m.media-a...|           |           |       |A young girl with...|             IV|\n|tt6502268|tt6502268|                  []|           |{Tony Palmer, nm7...|          [Thriller]|          Wrightwood|https://m.media-a...|           |           |       |          Add a Plot|               |\n|tt6502258|tt6502258|[{Reza Beyk Imanv...|           |{Mahmoud Kushan, ...|                  []|           Nafas-gir|https://m.media-a...|           |           |       |          Add a Plot|           1979|\n|tt6502254|tt6502254|                null|           |                null|          [Thriller]|First Person Shooter|https://m.media-a...|           |           |       |Not available for...|            III|\n|tt6502154|tt6502154|[{Maria Armanda P...|           |{Nuno Fradique, n...|             [Drama]|A Ascensão de Joa...|https://m.media-a...|           |           |       |          Add a Plot|  1964 TV Movie|\n|tt6502124|tt6502124|                null|           |                null|                  []|Zhe jue bushi xia...|https://m.media-a...|           |           |       |          Add a Plot|           1956|\n|tt6502106|tt6502106|[{Coolio, nm00048...|           |{Joel Gallen, nm0...|    [Comedy,  Music]|The Goddamn Comed...|https://m.media-a...|           |           | 48 min|          Add a Plot|2016 TV Special|\n|tt6502102|tt6502102|[{Gavin Acevedo, ...|           |{Tyler Wright, nm...|          [Thriller]| Winter (Summer) Sun|https://m.media-a...|           |           |       |Follows a college...|           2017|\n|tt6502062|tt6502062|[{Kyle Stefanski,...|           |{Ryan Francis, nm...|            [Action]|         Unto Us All|https://m.media-a...|           |           |       |In the not too di...|           2017|\n|tt6502040|tt6502040|                  []|           |{Maritte Lee Go, ...|    [Drama,  Horror]|            Binarang|https://m.media-a...|           |           |       |Rochelle travels ...|               |\n|tt6502034|tt6502034|[{Dorotha Röhr, n...|           |{Günther Andreas ...|         [Talk-Show]|...Eltern sein da...|https://m.media-a...|           |           | 45 min|          Add a Plot|1974 TV Special|\n|tt6502032|tt6502032|                  []|           |{George A. Perant...|[Drama,  History,...|    The War of Lions|https://m.media-a...|           |           |       |An Italian wine e...|               |\n+---------+---------+--------------------+-----------+--------------------+--------------------+--------------------+--------------------+-----------+-----------+-------+--------------------+---------------+\nonly showing top 20 rows\n\n"
     ]
    }
   ],
   "source": [
    "df.show()"
   ]
  },
  {
   "cell_type": "code",
   "execution_count": 0,
   "metadata": {
    "application/vnd.databricks.v1+cell": {
     "cellMetadata": {
      "byteLimit": 2048000,
      "rowLimit": 10000
     },
     "inputWidgets": {},
     "nuid": "b5c22956-ff53-4f4a-8c3d-78e42eb74708",
     "showTitle": false,
     "title": ""
    }
   },
   "outputs": [
    {
     "output_type": "stream",
     "name": "stdout",
     "output_type": "stream",
     "text": [
      "root\n |-- ImdbId: string (nullable = true)\n |-- _id: string (nullable = true)\n |-- cast: array (nullable = true)\n |    |-- element: struct (containsNull = true)\n |    |    |-- name: string (nullable = true)\n |    |    |-- name_id: string (nullable = true)\n |-- certificate: string (nullable = true)\n |-- director: struct (nullable = true)\n |    |-- name: string (nullable = true)\n |    |-- name_id: string (nullable = true)\n |-- genre: array (nullable = true)\n |    |-- element: string (containsNull = true)\n |-- name: string (nullable = true)\n |-- poster_url: string (nullable = true)\n |-- ratingCount: string (nullable = true)\n |-- ratingValue: string (nullable = true)\n |-- runtime: string (nullable = true)\n |-- summary_text: string (nullable = true)\n |-- year: string (nullable = true)\n\n"
     ]
    }
   ],
   "source": [
    "df.printSchema()"
   ]
  },
  {
   "cell_type": "code",
   "execution_count": 0,
   "metadata": {
    "application/vnd.databricks.v1+cell": {
     "cellMetadata": {
      "byteLimit": 2048000,
      "rowLimit": 10000
     },
     "inputWidgets": {},
     "nuid": "dcb8491f-5206-4c5e-828a-9344eab9863e",
     "showTitle": false,
     "title": ""
    }
   },
   "outputs": [
    {
     "output_type": "stream",
     "name": "stdout",
     "output_type": "stream",
     "text": [
      "+---------+---------+--------------------+-----------+--------------------+--------------------+--------------------+--------------------+-----------+-----------+-------+--------------------+---------------+\n|   ImdbId|      _id|                cast|certificate|            director|               genre|                name|          poster_url|ratingCount|ratingValue|runtime|        summary_text|           year|\n+---------+---------+--------------------+-----------+--------------------+--------------------+--------------------+--------------------+-----------+-----------+-------+--------------------+---------------+\n|tt6502648|tt6502648|[{Damon Atkinson,...|           |{Charles Cardello...|             [Music]|Braid: Killing a ...|https://m.media-a...|           |           |       |          Add a Plot|           2004|\n|tt6502600|tt6502600|                  []|           |{Paul Hyett, nm04...|            [Horror]|              Spider|https://m.media-a...|           |           |       |A team of experts...|             II|\n|tt6502564|tt6502564|                  []|           |{Morgan Wilcock, ...|             [Drama]|        Kill or Kiss|https://m.media-a...|           |           |       |An aspiring write...|               |\n|tt6502524|tt6502524|[{Gabrielle Areva...|           |{Mathew Bonta, nm...|             [Crime]|       Street Toughs|https://m.media-a...|           |           |113 min|A stranger breaks...|           2017|\n|tt6502398|tt6502398|                null|           |                null|       [Documentary]|The Secret Histor...|https://m.media-a...|           |           | 45 min|BBC journalist an...|  2017 TV Movie|\n|tt6502370|tt6502370|                  []|           |{Cameron Grimm, n...|  [Crime,  Thriller]|          The Secret|https://m.media-a...|           |           |       |          Add a Plot|             IV|\n|tt6502348|tt6502348|[{Saeed Rad, nm07...|           |{Mahmoud Kushan, ...|                  []|     Sokoot-e bozorg|https://m.media-a...|           |           |       |          Add a Plot|           1977|\n|tt6502334|tt6502334|[{Kreyol Wa, nm59...|           |{Perry Cassagnol,...|             [Drama]|              Doub 6|https://m.media-a...|           |           |       |Benny is a man wh...|           2017|\n|tt6502322|tt6502322|                null|           |                null|                  []|             Lullaby|https://m.media-a...|           |           |       |A young girl with...|             IV|\n|tt6502268|tt6502268|                  []|           |{Tony Palmer, nm7...|          [Thriller]|          Wrightwood|https://m.media-a...|           |           |       |          Add a Plot|               |\n|tt6502258|tt6502258|[{Reza Beyk Imanv...|           |{Mahmoud Kushan, ...|                  []|           Nafas-gir|https://m.media-a...|           |           |       |          Add a Plot|           1979|\n|tt6502254|tt6502254|                null|           |                null|          [Thriller]|First Person Shooter|https://m.media-a...|           |           |       |Not available for...|            III|\n|tt6502154|tt6502154|[{Maria Armanda P...|           |{Nuno Fradique, n...|             [Drama]|A Ascensão de Joa...|https://m.media-a...|           |           |       |          Add a Plot|  1964 TV Movie|\n|tt6502124|tt6502124|                null|           |                null|                  []|Zhe jue bushi xia...|https://m.media-a...|           |           |       |          Add a Plot|           1956|\n|tt6502106|tt6502106|[{Coolio, nm00048...|           |{Joel Gallen, nm0...|    [Comedy,  Music]|The Goddamn Comed...|https://m.media-a...|           |           | 48 min|          Add a Plot|2016 TV Special|\n|tt6502102|tt6502102|[{Gavin Acevedo, ...|           |{Tyler Wright, nm...|          [Thriller]| Winter (Summer) Sun|https://m.media-a...|           |           |       |Follows a college...|           2017|\n|tt6502062|tt6502062|[{Kyle Stefanski,...|           |{Ryan Francis, nm...|            [Action]|         Unto Us All|https://m.media-a...|           |           |       |In the not too di...|           2017|\n|tt6502040|tt6502040|                  []|           |{Maritte Lee Go, ...|    [Drama,  Horror]|            Binarang|https://m.media-a...|           |           |       |Rochelle travels ...|               |\n|tt6502034|tt6502034|[{Dorotha Röhr, n...|           |{Günther Andreas ...|         [Talk-Show]|...Eltern sein da...|https://m.media-a...|           |           | 45 min|          Add a Plot|1974 TV Special|\n|tt6502032|tt6502032|                  []|           |{George A. Perant...|[Drama,  History,...|    The War of Lions|https://m.media-a...|           |           |       |An Italian wine e...|               |\n+---------+---------+--------------------+-----------+--------------------+--------------------+--------------------+--------------------+-----------+-----------+-------+--------------------+---------------+\nonly showing top 20 rows\n\nroot\n |-- ImdbId: string (nullable = true)\n |-- _id: string (nullable = true)\n |-- cast: array (nullable = true)\n |    |-- element: struct (containsNull = true)\n |    |    |-- name: string (nullable = true)\n |    |    |-- name_id: string (nullable = true)\n |-- certificate: string (nullable = true)\n |-- director: struct (nullable = true)\n |    |-- name: string (nullable = true)\n |    |-- name_id: string (nullable = true)\n |-- genre: array (nullable = true)\n |    |-- element: string (containsNull = true)\n |-- name: string (nullable = true)\n |-- poster_url: string (nullable = true)\n |-- ratingCount: string (nullable = true)\n |-- ratingValue: string (nullable = true)\n |-- runtime: string (nullable = true)\n |-- summary_text: string (nullable = true)\n |-- year: string (nullable = true)\n\n"
     ]
    }
   ],
   "source": [
    "df = spark.read.format(\"json\").option(\"multiline\",\"true\").option(\"inferSchema\",\"true\").option(\"header\",\"true\").load(\"/FileStore/tables/fcf64afd_c163_44dd_b7de_7f753a74a683.json\")\n",
    "from pyspark.sql import SparkSession\n",
    "spark = SparkSession.builder.appName(\"Read JSON in PySpark\").getOrCreate()\n",
    "df = spark.read.format(\"json\").option(\"multiline\",\"true\").option(\"inferSchema\",\"true\").option(\"header\",\"true\").load(\"/FileStore/tables/fcf64afd_c163_44dd_b7de_7f753a74a683.json\")\n",
    "df.show()\n",
    "df.printSchema()"
   ]
  },
  {
   "cell_type": "code",
   "execution_count": 0,
   "metadata": {
    "application/vnd.databricks.v1+cell": {
     "cellMetadata": {
      "byteLimit": 2048000,
      "rowLimit": 10000
     },
     "inputWidgets": {},
     "nuid": "da557f5f-1f6e-4ff0-87be-355eee858bf9",
     "showTitle": false,
     "title": ""
    }
   },
   "outputs": [],
   "source": []
  }
 ],
 "metadata": {
  "application/vnd.databricks.v1+notebook": {
   "dashboards": [],
   "environmentMetadata": null,
   "language": "python",
   "notebookMetadata": {
    "pythonIndentUnit": 4
   },
   "notebookName": "JSON_File_Read_2024-08-22 11:45:09",
   "widgets": {}
  }
 },
 "nbformat": 4,
 "nbformat_minor": 0
}

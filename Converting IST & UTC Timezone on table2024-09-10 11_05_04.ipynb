{
 "cells": [
  {
   "cell_type": "code",
   "execution_count": 0,
   "metadata": {
    "application/vnd.databricks.v1+cell": {
     "cellMetadata": {},
     "inputWidgets": {},
     "nuid": "a64c3739-848a-4bbd-8a0a-d205ded4e0f3",
     "showTitle": false,
     "title": ""
    }
   },
   "outputs": [],
   "source": [
    "# /FileStore/tables/Sales_SalesOrderDetail-4.csv"
   ]
  },
  {
   "cell_type": "code",
   "execution_count": 0,
   "metadata": {
    "application/vnd.databricks.v1+cell": {
     "cellMetadata": {
      "byteLimit": 2048000,
      "rowLimit": 10000
     },
     "inputWidgets": {},
     "nuid": "aeafae80-aa6a-4106-882e-95f5b9908961",
     "showTitle": false,
     "title": ""
    }
   },
   "outputs": [
    {
     "output_type": "stream",
     "name": "stdout",
     "output_type": "stream",
     "text": [
      "+------------+------------------+---------------------+--------+---------+--------------+---------+-----------------+---------+--------------------+------------+\n|SalesOrderID|SalesOrderDetailID|CarrierTrackingNumber|OrderQty|ProductID|SpecialOfferID|UnitPrice|UnitPriceDiscount|LineTotal|             rowguid|ModifiedDate|\n+------------+------------------+---------------------+--------+---------+--------------+---------+-----------------+---------+--------------------+------------+\n|       43659|                 1|         4911-403C-98|       1|      776|             1|  2024.99|             0.00|  2024.99|B207C96D-D9E6-402...|  2011-05-31|\n|       43659|                 2|         4911-403C-98|       3|      777|             1|  2024.99|             0.00|  6074.98|7ABB600D-1E77-41B...|  2011-05-31|\n|       43659|                 3|         4911-403C-98|       1|      778|             1|  2024.99|             0.00|  2024.99|475CF8C6-49F6-486...|  2011-05-31|\n|       43659|                 4|         4911-403C-98|       1|      771|             1|  2039.99|             0.00|  2039.99|04C4DE91-5815-45D...|  2011-05-31|\n|       43659|                 5|         4911-403C-98|       1|      772|             1|  2039.99|             0.00|  2039.99|5A74C7D2-E641-438...|  2011-05-31|\n|       43659|                 6|         4911-403C-98|       2|      773|             1|  2039.99|             0.00|  4079.99|CE472532-A4C0-45B...|  2011-05-31|\n|       43659|                 7|         4911-403C-98|       1|      774|             1|  2039.99|             0.00|  2039.99|80667840-F962-4EE...|  2011-05-31|\n|       43659|                 8|         4911-403C-98|       3|      714|             1|    28.84|             0.00|    86.52|E9D54907-E7B7-496...|  2011-05-31|\n|       43659|                 9|         4911-403C-98|       1|      716|             1|    28.84|             0.00|    28.84|AA542630-BDCD-4CE...|  2011-05-31|\n|       43659|                10|         4911-403C-98|       6|      709|             1|     5.70|             0.00|    34.20|AC769034-3C2F-495...|  2011-05-31|\n+------------+------------------+---------------------+--------+---------+--------------+---------+-----------------+---------+--------------------+------------+\nonly showing top 10 rows\n\n+------------+------------------+------------+-------------------+-------------------+\n|SalesOrderID|SalesOrderDetailID|ModifiedDate|ModifiedDate_UTC   |ModifiedDate_IST   |\n+------------+------------------+------------+-------------------+-------------------+\n|43659       |9                 |2011-05-31  |2011-05-31 00:00:00|2011-05-31 05:30:00|\n|43661       |19                |2011-05-31  |2011-05-31 00:00:00|2011-05-31 05:30:00|\n|43661       |17                |2011-05-31  |2011-05-31 00:00:00|2011-05-31 05:30:00|\n|43659       |11                |2011-05-31  |2011-05-31 00:00:00|2011-05-31 05:30:00|\n|43661       |15                |2011-05-31  |2011-05-31 00:00:00|2011-05-31 05:30:00|\n|43660       |14                |2011-05-31  |2011-05-31 00:00:00|2011-05-31 05:30:00|\n|43661       |21                |2011-05-31  |2011-05-31 00:00:00|2011-05-31 05:30:00|\n|43661       |16                |2011-05-31  |2011-05-31 00:00:00|2011-05-31 05:30:00|\n|43659       |2                 |2011-05-31  |2011-05-31 00:00:00|2011-05-31 05:30:00|\n|43659       |12                |2011-05-31  |2011-05-31 00:00:00|2011-05-31 05:30:00|\n|43659       |5                 |2011-05-31  |2011-05-31 00:00:00|2011-05-31 05:30:00|\n|43659       |6                 |2011-05-31  |2011-05-31 00:00:00|2011-05-31 05:30:00|\n|43661       |18                |2011-05-31  |2011-05-31 00:00:00|2011-05-31 05:30:00|\n|43659       |8                 |2011-05-31  |2011-05-31 00:00:00|2011-05-31 05:30:00|\n|43659       |1                 |2011-05-31  |2011-05-31 00:00:00|2011-05-31 05:30:00|\n|43661       |20                |2011-05-31  |2011-05-31 00:00:00|2011-05-31 05:30:00|\n|43659       |10                |2011-05-31  |2011-05-31 00:00:00|2011-05-31 05:30:00|\n|43660       |13                |2011-05-31  |2011-05-31 00:00:00|2011-05-31 05:30:00|\n|43659       |4                 |2011-05-31  |2011-05-31 00:00:00|2011-05-31 05:30:00|\n|43659       |3                 |2011-05-31  |2011-05-31 00:00:00|2011-05-31 05:30:00|\n+------------+------------------+------------+-------------------+-------------------+\nonly showing top 20 rows\n\n+------------+-------------------+-------------------+----------+\n|ModifiedDate|ModifiedDate_UTC   |ModifiedDate_IST   |OrderCount|\n+------------+-------------------+-------------------+----------+\n|2012-04-17  |2012-04-17 00:00:00|2012-04-17 05:30:00|6         |\n|2012-10-06  |2012-10-06 00:00:00|2012-10-06 05:30:00|5         |\n|2013-01-22  |2013-01-22 00:00:00|2013-01-22 05:30:00|3         |\n|2013-03-26  |2013-03-26 00:00:00|2013-03-26 05:30:00|11        |\n|2013-05-21  |2013-05-21 00:00:00|2013-05-21 05:30:00|6         |\n|2011-10-07  |2011-10-07 00:00:00|2011-10-07 05:30:00|9         |\n|2012-07-17  |2012-07-17 00:00:00|2012-07-17 05:30:00|8         |\n|2011-07-07  |2011-07-07 00:00:00|2011-07-07 05:30:00|4         |\n|2011-07-18  |2011-07-18 00:00:00|2011-07-18 05:30:00|6         |\n|2011-08-21  |2011-08-21 00:00:00|2011-08-21 05:30:00|8         |\n|2011-11-18  |2011-11-18 00:00:00|2011-11-18 05:30:00|14        |\n|2012-11-11  |2012-11-11 00:00:00|2012-11-11 05:30:00|12        |\n|2013-02-02  |2013-02-02 00:00:00|2013-02-02 05:30:00|6         |\n|2012-02-12  |2012-02-12 00:00:00|2012-02-12 05:30:00|10        |\n|2012-08-23  |2012-08-23 00:00:00|2012-08-23 05:30:00|9         |\n|2012-09-21  |2012-09-21 00:00:00|2012-09-21 05:30:00|7         |\n|2011-11-14  |2011-11-14 00:00:00|2011-11-14 05:30:00|12        |\n|2012-03-30  |2012-03-30 00:00:00|2012-03-30 05:30:00|1124      |\n|2012-07-14  |2012-07-14 00:00:00|2012-07-14 05:30:00|12        |\n|2013-02-04  |2013-02-04 00:00:00|2013-02-04 05:30:00|14        |\n+------------+-------------------+-------------------+----------+\nonly showing top 20 rows\n\n"
     ]
    }
   ],
   "source": [
    "from pyspark.sql.types import StructType, StructField, StringType, IntegerType, DecimalType, DateType\n",
    "from pyspark.sql import functions as F\n",
    "from pyspark.sql import SparkSession\n",
    "\n",
    "# Initialize Spark session\n",
    "spark = SparkSession.builder.appName(\"AzureFunctionDateProcessing\").getOrCreate()\n",
    "\n",
    "# Define the schema\n",
    "schema = StructType([\n",
    "    StructField(\"SalesOrderID\", IntegerType(), True),\n",
    "    StructField(\"SalesOrderDetailID\", IntegerType(), True),\n",
    "    StructField(\"CarrierTrackingNumber\", StringType(), True),\n",
    "    StructField(\"OrderQty\", IntegerType(), True),\n",
    "    StructField(\"ProductID\", IntegerType(), True),\n",
    "    StructField(\"SpecialOfferID\", IntegerType(), True),\n",
    "    StructField(\"UnitPrice\", DecimalType(10, 2), True),\n",
    "    StructField(\"UnitPriceDiscount\", DecimalType(10, 2), True),\n",
    "    StructField(\"LineTotal\", DecimalType(20, 2), True),\n",
    "    StructField(\"rowguid\", StringType(), True),\n",
    "    StructField(\"ModifiedDate\", DateType(), True)\n",
    "])\n",
    "\n",
    "# Load the data with the schema\n",
    "df = spark.read.format('csv').option('header', 'false').schema(schema).load(\"/FileStore/tables/Sales_SalesOrderDetail-4.csv\")\n",
    "\n",
    "# Show few rows to verify data loading\n",
    "df.show(10)\n",
    "\n",
    "from pyspark.sql.functions import col, from_utc_timestamp, to_utc_timestamp\n",
    "\n",
    "# Convert ModifiedDate to IST and explicitly to UTC\n",
    "df_with_timezones = df.withColumn(\"ModifiedDate_IST\", from_utc_timestamp(\"ModifiedDate\", \"Asia/Kolkata\")) \\\n",
    "                      .withColumn(\"ModifiedDate_UTC\", to_utc_timestamp(\"ModifiedDate\", \"UTC\"))\n",
    "\n",
    "# Show the results with SalesOrderID, SalesOrderDetailID, and modified date columns\n",
    "df_with_timezones.select(\"SalesOrderID\", \"SalesOrderDetailID\", \"ModifiedDate\", \"ModifiedDate_UTC\", \"ModifiedDate_IST\").distinct().show(truncate=False)\n",
    "\n",
    "\n",
    "\n",
    "# Convert ModifiedDate to IST and UTC\n",
    "#df_with_timezones = df.withColumn(\"ModifiedDate_IST\", from_utc_timestamp(\"ModifiedDate\", \"Asia/Kolkata\")) \\\n",
    "                      .withColumn(\"ModifiedDate_UTC\", to_utc_timestamp(\"ModifiedDate\", \"UTC\"))\n",
    "\n",
    "# Group by ModifiedDate and select distinct entries\n",
    "df_grouped = df_with_timezones.groupBy(\"ModifiedDate\") \\\n",
    "    .agg({\"SalesOrderID\": \"count\"}) \\\n",
    "    .withColumnRenamed(\"count(SalesOrderID)\", \"OrderCount\") \\\n",
    "    .withColumn(\"ModifiedDate_IST\", from_utc_timestamp(\"ModifiedDate\", \"Asia/Kolkata\")) \\\n",
    "    .withColumn(\"ModifiedDate_UTC\", to_utc_timestamp(\"ModifiedDate\", \"UTC\"))\n",
    "\n",
    "# Show the result grouped by ModifiedDate with timezones\n",
    "df_grouped.select(\"ModifiedDate\", \"ModifiedDate_UTC\", \"ModifiedDate_IST\", \"OrderCount\").show(truncate=False)\n",
    "\n",
    "\n",
    "\n",
    "\n",
    "\n",
    "\n"
   ]
  }
 ],
 "metadata": {
  "application/vnd.databricks.v1+notebook": {
   "dashboards": [],
   "environmentMetadata": null,
   "language": "python",
   "notebookMetadata": {
    "pythonIndentUnit": 4
   },
   "notebookName": "Converting IST & UTC Timezone on table2024-09-10 11:05:04",
   "widgets": {}
  }
 },
 "nbformat": 4,
 "nbformat_minor": 0
}

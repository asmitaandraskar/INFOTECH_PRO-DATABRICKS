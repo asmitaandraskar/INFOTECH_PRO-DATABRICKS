{
 "cells": [
  {
   "cell_type": "code",
   "execution_count": 0,
   "metadata": {
    "application/vnd.databricks.v1+cell": {
     "cellMetadata": {
      "byteLimit": 2048000,
      "rowLimit": 10000
     },
     "inputWidgets": {},
     "nuid": "fb8d9d7f-b58f-4df8-b508-41432a6a6dad",
     "showTitle": false,
     "title": ""
    }
   },
   "outputs": [],
   "source": [
    "from pyspark.sql import SparkSession\n",
    "from pyspark.sql.functions import udf\n",
    "from pyspark.sql.types import DoubleType"
   ]
  },
  {
   "cell_type": "code",
   "execution_count": 0,
   "metadata": {
    "application/vnd.databricks.v1+cell": {
     "cellMetadata": {
      "byteLimit": 2048000,
      "rowLimit": 10000
     },
     "inputWidgets": {},
     "nuid": "8e611986-5fa9-44fa-a065-bced66c85782",
     "showTitle": false,
     "title": ""
    }
   },
   "outputs": [],
   "source": [
    "\n",
    "# Initialize Spark session\n",
    "spark = SparkSession.builder.appName(\"Calculator\").getOrCreate()\n"
   ]
  },
  {
   "cell_type": "code",
   "execution_count": 0,
   "metadata": {
    "application/vnd.databricks.v1+cell": {
     "cellMetadata": {
      "byteLimit": 2048000,
      "rowLimit": 10000
     },
     "inputWidgets": {},
     "nuid": "3d7db43b-d954-4306-9808-6304b85989ba",
     "showTitle": false,
     "title": ""
    }
   },
   "outputs": [],
   "source": [
    "# Define the calculator functions\n",
    "\n",
    "def add(x, y):\n",
    "    return float(x) + float(y)\n",
    "\n",
    "def subtract(x, y):\n",
    "    return float(x) - float(y)\n",
    "\n",
    "def multiply(x, y):\n",
    "    return float(x) * float(y)\n",
    "\n",
    "def divide(x, y):\n",
    "    if y == 0:\n",
    "        return None  # Handle division by zero\n",
    "    return x / y\n"
   ]
  },
  {
   "cell_type": "code",
   "execution_count": 0,
   "metadata": {
    "application/vnd.databricks.v1+cell": {
     "cellMetadata": {
      "byteLimit": 2048000,
      "rowLimit": 10000
     },
     "inputWidgets": {},
     "nuid": "ec844af3-ad4b-4533-9a34-52fd9cbfa701",
     "showTitle": false,
     "title": ""
    }
   },
   "outputs": [],
   "source": [
    "# Register Define these functions as UDFs (User Defined Functions) in PySpark\n",
    "add_udf = udf(add, DoubleType())\n",
    "subtract_udf = udf(subtract, DoubleType())\n",
    "multiply_udf = udf(multiply, DoubleType())\n",
    "divide_udf = udf(divide, DoubleType())\n"
   ]
  },
  {
   "cell_type": "code",
   "execution_count": 0,
   "metadata": {
    "application/vnd.databricks.v1+cell": {
     "cellMetadata": {
      "byteLimit": 2048000,
      "rowLimit": 10000
     },
     "inputWidgets": {},
     "nuid": "f5a446c9-9d69-441d-a5dd-bf04d1cd7048",
     "showTitle": false,
     "title": ""
    }
   },
   "outputs": [
    {
     "output_type": "stream",
     "name": "stdout",
     "output_type": "stream",
     "text": [
      "+---+---+\n|  x|  y|\n+---+---+\n| 10|  5|\n| 20|  0|\n| 15|  3|\n| 50| 25|\n+---+---+\n\n"
     ]
    }
   ],
   "source": [
    "# Create a sample DataFrame with two columns 'x' and 'y'\n",
    "data = [(10, 5), (20, 0), (15, 3), (50, 25)]\n",
    "columns = [\"x\", \"y\"]\n",
    "\n",
    "df = spark.createDataFrame(data, columns)\n",
    "\n",
    "# Show the original DataFrame\n",
    "df.show()\n",
    "    \n"
   ]
  },
  {
   "cell_type": "code",
   "execution_count": 0,
   "metadata": {
    "application/vnd.databricks.v1+cell": {
     "cellMetadata": {
      "byteLimit": 2048000,
      "rowLimit": 10000
     },
     "inputWidgets": {},
     "nuid": "3273f580-0252-4921-9aff-6e36c49d4525",
     "showTitle": false,
     "title": ""
    }
   },
   "outputs": [],
   "source": [
    "# Apply the calculator functions to the DataFrame\n",
    "\n",
    "# Add\n",
    "df_with_addition = df.withColumn(\"addition\", add_udf(df[\"x\"], df[\"y\"]))\n",
    "# Subtract\n",
    "df_with_subtraction = df_with_addition.withColumn(\"subtraction\", subtract_udf(df[\"x\"], df[\"y\"]))\n",
    "# Multiply\n",
    "df_with_multiplication = df_with_subtraction.withColumn(\"multiplication\", multiply_udf(df[\"x\"], df[\"y\"]))\n",
    "# Divide\n",
    "df_with_division = df_with_multiplication.withColumn(\"division\", divide_udf(df[\"x\"], df[\"y\"]))\n"
   ]
  },
  {
   "cell_type": "code",
   "execution_count": 0,
   "metadata": {
    "application/vnd.databricks.v1+cell": {
     "cellMetadata": {
      "byteLimit": 2048000,
      "rowLimit": 10000
     },
     "inputWidgets": {},
     "nuid": "338e2e2c-0896-4638-8663-d95548d9ae2a",
     "showTitle": false,
     "title": ""
    }
   },
   "outputs": [
    {
     "output_type": "stream",
     "name": "stdout",
     "output_type": "stream",
     "text": [
      "+---+---+--------+\n|  x|  y|addition|\n+---+---+--------+\n| 10|  5|    15.0|\n| 20|  0|    20.0|\n| 15|  3|    18.0|\n| 50| 25|    75.0|\n+---+---+--------+\n\n"
     ]
    }
   ],
   "source": [
    "df_with_addition.show()"
   ]
  },
  {
   "cell_type": "code",
   "execution_count": 0,
   "metadata": {
    "application/vnd.databricks.v1+cell": {
     "cellMetadata": {
      "byteLimit": 2048000,
      "rowLimit": 10000
     },
     "inputWidgets": {},
     "nuid": "b7f6d324-0ed3-4152-92c5-1c778f343764",
     "showTitle": false,
     "title": ""
    }
   },
   "outputs": [
    {
     "output_type": "stream",
     "name": "stdout",
     "output_type": "stream",
     "text": [
      "+---+---+--------+-----------+\n|  x|  y|addition|subtraction|\n+---+---+--------+-----------+\n| 10|  5|    15.0|        5.0|\n| 20|  0|    20.0|       20.0|\n| 15|  3|    18.0|       12.0|\n| 50| 25|    75.0|       25.0|\n+---+---+--------+-----------+\n\n"
     ]
    }
   ],
   "source": [
    "df_with_subtraction.show()"
   ]
  },
  {
   "cell_type": "code",
   "execution_count": 0,
   "metadata": {
    "application/vnd.databricks.v1+cell": {
     "cellMetadata": {
      "byteLimit": 2048000,
      "rowLimit": 10000
     },
     "inputWidgets": {},
     "nuid": "8a6a6ae2-5cb3-4fb8-9f76-c77b5634ec88",
     "showTitle": false,
     "title": ""
    }
   },
   "outputs": [
    {
     "output_type": "stream",
     "name": "stdout",
     "output_type": "stream",
     "text": [
      "+---+---+--------+-----------+--------------+\n|  x|  y|addition|subtraction|multiplication|\n+---+---+--------+-----------+--------------+\n| 10|  5|    15.0|        5.0|          50.0|\n| 20|  0|    20.0|       20.0|           0.0|\n| 15|  3|    18.0|       12.0|          45.0|\n| 50| 25|    75.0|       25.0|        1250.0|\n+---+---+--------+-----------+--------------+\n\n"
     ]
    }
   ],
   "source": [
    "df_with_multiplication.show()"
   ]
  },
  {
   "cell_type": "code",
   "execution_count": 0,
   "metadata": {
    "application/vnd.databricks.v1+cell": {
     "cellMetadata": {
      "byteLimit": 2048000,
      "rowLimit": 10000
     },
     "inputWidgets": {},
     "nuid": "372431e9-fba0-4706-b7f5-04fbda51c002",
     "showTitle": false,
     "title": ""
    }
   },
   "outputs": [
    {
     "output_type": "stream",
     "name": "stdout",
     "output_type": "stream",
     "text": [
      "+---+---+--------+-----------+--------------+--------+\n|  x|  y|addition|subtraction|multiplication|division|\n+---+---+--------+-----------+--------------+--------+\n| 10|  5|    15.0|        5.0|          50.0|     2.0|\n| 20|  0|    20.0|       20.0|           0.0|    null|\n| 15|  3|    18.0|       12.0|          45.0|     5.0|\n| 50| 25|    75.0|       25.0|        1250.0|     2.0|\n+---+---+--------+-----------+--------------+--------+\n\n"
     ]
    }
   ],
   "source": [
    "# Show the DataFrame with all operations\n",
    "df_with_division.show()\n"
   ]
  },
  {
   "cell_type": "code",
   "execution_count": 0,
   "metadata": {
    "application/vnd.databricks.v1+cell": {
     "cellMetadata": {
      "byteLimit": 2048000,
      "rowLimit": 10000
     },
     "inputWidgets": {},
     "nuid": "808f41ba-3c9a-47f3-8488-494bcc010f20",
     "showTitle": false,
     "title": ""
    }
   },
   "outputs": [
    {
     "output_type": "stream",
     "name": "stdout",
     "output_type": "stream",
     "text": [
      "+---+---+\n|  x|  y|\n+---+---+\n| 10|  5|\n| 20|  0|\n| 15|  3|\n| 50| 25|\n+---+---+\n\n+---+---+--------+\n|  x|  y|addition|\n+---+---+--------+\n| 10|  5|    15.0|\n| 20|  0|    20.0|\n| 15|  3|    18.0|\n| 50| 25|    75.0|\n+---+---+--------+\n\n+---+---+--------+-----------+\n|  x|  y|addition|subtraction|\n+---+---+--------+-----------+\n| 10|  5|    15.0|        5.0|\n| 20|  0|    20.0|       20.0|\n| 15|  3|    18.0|       12.0|\n| 50| 25|    75.0|       25.0|\n+---+---+--------+-----------+\n\n+---+---+--------+-----------+--------------+\n|  x|  y|addition|subtraction|multiplication|\n+---+---+--------+-----------+--------------+\n| 10|  5|    15.0|        5.0|          50.0|\n| 20|  0|    20.0|       20.0|           0.0|\n| 15|  3|    18.0|       12.0|          45.0|\n| 50| 25|    75.0|       25.0|        1250.0|\n+---+---+--------+-----------+--------------+\n\n+---+---+--------+-----------+--------------+--------+\n|  x|  y|addition|subtraction|multiplication|division|\n+---+---+--------+-----------+--------------+--------+\n| 10|  5|    15.0|        5.0|          50.0|     2.0|\n| 20|  0|    20.0|       20.0|           0.0|    null|\n| 15|  3|    18.0|       12.0|          45.0|     5.0|\n| 50| 25|    75.0|       25.0|        1250.0|     2.0|\n+---+---+--------+-----------+--------------+--------+\n\n"
     ]
    }
   ],
   "source": [
    "from pyspark.sql import SparkSession\n",
    "from pyspark.sql.functions import udf\n",
    "from pyspark.sql.types import DoubleType\n",
    "spark = SparkSession.builder.appName(\"Calculator\").getOrCreate()\n",
    "def add(x, y):\n",
    "    return float(x) + float(y)\n",
    "\n",
    "def subtract(x, y):\n",
    "    return float(x) - float(y)\n",
    "\n",
    "def multiply(x, y):\n",
    "    return float(x) * float(y)\n",
    "\n",
    "def divide(x, y):\n",
    "    if y == 0:\n",
    "        return None  # Handle division by zero\n",
    "    return x / y\n",
    "\n",
    "add_udf = udf(add, DoubleType())\n",
    "subtract_udf = udf(subtract, DoubleType())\n",
    "multiply_udf = udf(multiply, DoubleType())\n",
    "divide_udf = udf(divide, DoubleType())\n",
    "\n",
    " #Create a sample DataFrame with two columns 'x' and 'y'\n",
    "data = [(10, 5), (20, 0), (15, 3), (50, 25)]\n",
    "columns = [\"x\", \"y\"]\n",
    "\n",
    "df = spark.createDataFrame(data, columns)\n",
    "\n",
    "# Show the original DataFrame\n",
    "df.show()\n",
    "\n",
    "# Add\n",
    "df_with_addition = df.withColumn(\"addition\", add_udf(df[\"x\"], df[\"y\"]))\n",
    "# Subtract\n",
    "df_with_subtraction = df_with_addition.withColumn(\"subtraction\", subtract_udf(df[\"x\"], df[\"y\"]))\n",
    "# Multiply\n",
    "df_with_multiplication = df_with_subtraction.withColumn(\"multiplication\", multiply_udf(df[\"x\"], df[\"y\"]))\n",
    "# Divide\n",
    "df_with_division = df_with_multiplication.withColumn(\"division\", divide_udf(df[\"x\"], df[\"y\"]))\n",
    "\n",
    "df_with_addition.show()\n",
    "df_with_subtraction.show()\n",
    "df_with_multiplication.show()\n",
    "df_with_division.show()\n",
    "\n",
    "\n"
   ]
  }
 ],
 "metadata": {
  "application/vnd.databricks.v1+notebook": {
   "dashboards": [],
   "environmentMetadata": null,
   "language": "python",
   "notebookMetadata": {
    "pythonIndentUnit": 4
   },
   "notebookName": "Calculator Implementation in PySpark",
   "widgets": {}
  }
 },
 "nbformat": 4,
 "nbformat_minor": 0
}

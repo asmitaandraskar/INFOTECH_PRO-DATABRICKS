{
 "cells": [
  {
   "cell_type": "code",
   "execution_count": 0,
   "metadata": {
    "application/vnd.databricks.v1+cell": {
     "cellMetadata": {
      "byteLimit": 2048000,
      "rowLimit": 10000
     },
     "inputWidgets": {},
     "nuid": "f6afab1d-9609-4d0c-a05b-7207402cd852",
     "showTitle": false,
     "title": ""
    }
   },
   "outputs": [
    {
     "output_type": "stream",
     "name": "stdout",
     "output_type": "stream",
     "text": [
      "Python interpreter will be restarted.\nCollecting delta-spark\n  Downloading delta_spark-3.2.0-py3-none-any.whl (21 kB)\nCollecting pyspark<3.6.0,>=3.5.0\n  Downloading pyspark-3.5.2.tar.gz (317.3 MB)\nCollecting importlib-metadata>=1.0.0\n  Downloading importlib_metadata-8.4.0-py3-none-any.whl (26 kB)\nCollecting zipp>=0.5\n  Downloading zipp-3.20.0-py3-none-any.whl (9.4 kB)\nCollecting py4j==0.10.9.7\n  Downloading py4j-0.10.9.7-py2.py3-none-any.whl (200 kB)\nBuilding wheels for collected packages: pyspark\n  Building wheel for pyspark (setup.py): started\n  Building wheel for pyspark (setup.py): finished with status 'done'\n  Created wheel for pyspark: filename=pyspark-3.5.2-py2.py3-none-any.whl size=317812390 sha256=577f1a9c8ee7c692e247444aab0685a591eb0cf278e09fff9bbc086d725c1f4d\n  Stored in directory: /root/.cache/pip/wheels/11/67/ea/33c283e520b775aa7a7a0d404447e287be841a711d074d4d91\nSuccessfully built pyspark\nInstalling collected packages: zipp, py4j, pyspark, importlib-metadata, delta-spark\nSuccessfully installed delta-spark-3.2.0 importlib-metadata-8.4.0 py4j-0.10.9.7 pyspark-3.5.2 zipp-3.20.0\nPython interpreter will be restarted.\n"
     ]
    }
   ],
   "source": [
    "%pip install delta-spark"
   ]
  },
  {
   "cell_type": "code",
   "execution_count": 0,
   "metadata": {
    "application/vnd.databricks.v1+cell": {
     "cellMetadata": {
      "byteLimit": 2048000,
      "rowLimit": 10000
     },
     "inputWidgets": {},
     "nuid": "bacc5554-4551-4f82-853e-5adc81aa13fb",
     "showTitle": false,
     "title": ""
    }
   },
   "outputs": [],
   "source": [
    "from pyspark.sql import SparkSession"
   ]
  },
  {
   "cell_type": "code",
   "execution_count": 0,
   "metadata": {
    "application/vnd.databricks.v1+cell": {
     "cellMetadata": {
      "byteLimit": 2048000,
      "rowLimit": 10000
     },
     "inputWidgets": {},
     "nuid": "aaa192c1-0453-4735-a281-20ab85ec619f",
     "showTitle": false,
     "title": ""
    }
   },
   "outputs": [],
   "source": [
    "spark = SparkSession.builder.appName(\"BronzeLayerIngestion\").getOrCreate()"
   ]
  },
  {
   "cell_type": "code",
   "execution_count": 0,
   "metadata": {
    "application/vnd.databricks.v1+cell": {
     "cellMetadata": {
      "byteLimit": 2048000,
      "rowLimit": 10000
     },
     "inputWidgets": {},
     "nuid": "01216654-6c69-41fc-8c53-c6969ad31b52",
     "showTitle": false,
     "title": ""
    }
   },
   "outputs": [],
   "source": [
    "df = spark.read.format(\"csv\").option(\"header\", \"true\").load(\"dbfs:/FileStore/shared_uploads/asmita9andraskar@gmail.com/Product_Review.csv\",inferScheme=True)"
   ]
  },
  {
   "cell_type": "code",
   "execution_count": 0,
   "metadata": {
    "application/vnd.databricks.v1+cell": {
     "cellMetadata": {
      "byteLimit": 2048000,
      "rowLimit": 10000
     },
     "inputWidgets": {},
     "nuid": "95698402-6756-4278-bcc0-d005ba5d526f",
     "showTitle": false,
     "title": ""
    }
   },
   "outputs": [
    {
     "output_type": "stream",
     "name": "stdout",
     "output_type": "stream",
     "text": [
      "+---------+------+------------+----------------+--------------------+------+--------------------+\n|ProductID|UserID|    UserName|      ReviewDate|           UserEmail|Rating|          ReviewText|\n+---------+------+------------+----------------+--------------------+------+--------------------+\n|      709|     1|  John Smith|18-09-2013 00:00|john@fourthcoffee...|     5|I can't believe I...|\n|      937|     2|       David|13-11-2013 00:00|david@graphicdesi...|     4|A little on the h...|\n|      937|     3|        Jill|15-11-2013 00:00|jill@margiestrave...|     2|Maybe it's just b...|\n|      798|     4|Laura Norman|15-11-2013 00:00|laura@treyresearc...|     5|The Road-550-W fr...|\n+---------+------+------------+----------------+--------------------+------+--------------------+\n\n"
     ]
    }
   ],
   "source": [
    "df.show()"
   ]
  },
  {
   "cell_type": "code",
   "execution_count": 0,
   "metadata": {
    "application/vnd.databricks.v1+cell": {
     "cellMetadata": {
      "byteLimit": 2048000,
      "rowLimit": 10000
     },
     "inputWidgets": {},
     "nuid": "162d9ef7-665e-40a0-8a36-a5bd53a4bdbf",
     "showTitle": false,
     "title": ""
    }
   },
   "outputs": [
    {
     "output_type": "stream",
     "name": "stdout",
     "output_type": "stream",
     "text": [
      "+--------------------+------+---------+\n|          ReviewText|Rating|ProductID|\n+--------------------+------+---------+\n|I can't believe I...|     5|      709|\n|A little on the h...|     4|      937|\n|Maybe it's just b...|     2|      937|\n|The Road-550-W fr...|     5|      798|\n+--------------------+------+---------+\n\n"
     ]
    }
   ],
   "source": [
    "# Select and display only specific columns from the DataFrame\n",
    "df.select(\"ReviewText\", \"Rating\", \"ProductID\").show()\n"
   ]
  },
  {
   "cell_type": "code",
   "execution_count": 0,
   "metadata": {
    "application/vnd.databricks.v1+cell": {
     "cellMetadata": {
      "byteLimit": 2048000,
      "rowLimit": 10000
     },
     "inputWidgets": {},
     "nuid": "45dd2999-6340-48c7-9dc0-5f844a8e75ac",
     "showTitle": false,
     "title": ""
    }
   },
   "outputs": [
    {
     "output_type": "stream",
     "name": "stdout",
     "output_type": "stream",
     "text": [
      "Out[6]: True"
     ]
    }
   ],
   "source": [
    "dbutils.fs.mkdirs(\"/mnt/bronze/layer/delta_table\")\n"
   ]
  },
  {
   "cell_type": "code",
   "execution_count": 0,
   "metadata": {
    "application/vnd.databricks.v1+cell": {
     "cellMetadata": {
      "byteLimit": 2048000,
      "rowLimit": 10000
     },
     "inputWidgets": {},
     "nuid": "fbc47e62-e027-461e-8ff6-e6a28834e86a",
     "showTitle": false,
     "title": ""
    }
   },
   "outputs": [],
   "source": [
    "df.write.format(\"delta\").mode(\"overwrite\").save(\"/mnt/bronze/layer/delta_table\")"
   ]
  },
  {
   "cell_type": "code",
   "execution_count": 0,
   "metadata": {
    "application/vnd.databricks.v1+cell": {
     "cellMetadata": {
      "byteLimit": 2048000,
      "rowLimit": 10000
     },
     "inputWidgets": {},
     "nuid": "ef3fc204-4cd9-4558-904d-c98afda788d8",
     "showTitle": false,
     "title": ""
    }
   },
   "outputs": [
    {
     "output_type": "stream",
     "name": "stdout",
     "output_type": "stream",
     "text": [
      "Out[8]: [FileInfo(path='dbfs:/mnt/bronze/layer/delta_table/_delta_log/', name='_delta_log/', size=0, modificationTime=0),\n FileInfo(path='dbfs:/mnt/bronze/layer/delta_table/part-00000-0b21fd5d-cb7c-4237-839b-adca67fd4f9d-c000.snappy.parquet', name='part-00000-0b21fd5d-cb7c-4237-839b-adca67fd4f9d-c000.snappy.parquet', size=9094, modificationTime=1721992059000),\n FileInfo(path='dbfs:/mnt/bronze/layer/delta_table/part-00000-277743b1-cae5-41db-bccd-2d643407f474-c000.snappy.parquet', name='part-00000-277743b1-cae5-41db-bccd-2d643407f474-c000.snappy.parquet', size=9094, modificationTime=1724235703000),\n FileInfo(path='dbfs:/mnt/bronze/layer/delta_table/part-00000-9c783b94-595c-48fc-85d5-dec2fb9ff1ab-c000.snappy.parquet', name='part-00000-9c783b94-595c-48fc-85d5-dec2fb9ff1ab-c000.snappy.parquet', size=9094, modificationTime=1721992170000)]"
     ]
    }
   ],
   "source": [
    "dbutils.fs.ls('dbfs:/mnt/bronze/layer/delta_table/')\n"
   ]
  },
  {
   "cell_type": "code",
   "execution_count": 0,
   "metadata": {
    "application/vnd.databricks.v1+cell": {
     "cellMetadata": {
      "byteLimit": 2048000,
      "rowLimit": 10000
     },
     "inputWidgets": {},
     "nuid": "dc9aa65c-ddd1-4299-8a8b-4a01ae5dad87",
     "showTitle": false,
     "title": ""
    }
   },
   "outputs": [],
   "source": [
    "df_bronze = spark.read.format(\"delta\").load(\"/mnt/bronze/layer/delta_table/\")"
   ]
  },
  {
   "cell_type": "code",
   "execution_count": 0,
   "metadata": {
    "application/vnd.databricks.v1+cell": {
     "cellMetadata": {
      "byteLimit": 2048000,
      "rowLimit": 10000
     },
     "inputWidgets": {},
     "nuid": "0dc65356-b081-47ce-802e-5ca33f281ae2",
     "showTitle": false,
     "title": ""
    }
   },
   "outputs": [
    {
     "output_type": "stream",
     "name": "stdout",
     "output_type": "stream",
     "text": [
      "+---------+------+------------+----------------+--------------------+------+--------------------+\n|ProductID|UserID|    UserName|      ReviewDate|           UserEmail|Rating|          ReviewText|\n+---------+------+------------+----------------+--------------------+------+--------------------+\n|      709|     1|  John Smith|18-09-2013 00:00|john@fourthcoffee...|     5|I can't believe I...|\n|      937|     2|       David|13-11-2013 00:00|david@graphicdesi...|     4|A little on the h...|\n|      937|     3|        Jill|15-11-2013 00:00|jill@margiestrave...|     2|Maybe it's just b...|\n|      798|     4|Laura Norman|15-11-2013 00:00|laura@treyresearc...|     5|The Road-550-W fr...|\n+---------+------+------------+----------------+--------------------+------+--------------------+\n\n"
     ]
    }
   ],
   "source": [
    "df_bronze.show()"
   ]
  },
  {
   "cell_type": "code",
   "execution_count": 0,
   "metadata": {
    "application/vnd.databricks.v1+cell": {
     "cellMetadata": {
      "byteLimit": 2048000,
      "rowLimit": 10000
     },
     "inputWidgets": {},
     "nuid": "03bd5310-0e3d-44e5-9371-52097357c8f4",
     "showTitle": false,
     "title": ""
    }
   },
   "outputs": [
    {
     "output_type": "stream",
     "name": "stdout",
     "output_type": "stream",
     "text": [
      "root\n |-- ProductID: string (nullable = true)\n |-- UserID: string (nullable = true)\n |-- UserName: string (nullable = true)\n |-- ReviewDate: string (nullable = true)\n |-- UserEmail: string (nullable = true)\n |-- Rating: string (nullable = true)\n |-- ReviewText: string (nullable = true)\n\n"
     ]
    }
   ],
   "source": [
    "df_bronze.printSchema()"
   ]
  },
  {
   "cell_type": "code",
   "execution_count": 0,
   "metadata": {
    "application/vnd.databricks.v1+cell": {
     "cellMetadata": {
      "byteLimit": 2048000,
      "rowLimit": 10000
     },
     "inputWidgets": {},
     "nuid": "1c2d1109-2484-4c62-a46b-c21e05493d8a",
     "showTitle": false,
     "title": ""
    }
   },
   "outputs": [
    {
     "output_type": "stream",
     "name": "stdout",
     "output_type": "stream",
     "text": [
      "+--------------------+------+---------+\n|          ReviewText|Rating|ProductId|\n+--------------------+------+---------+\n|I can't believe I...|     5|      709|\n|A little on the h...|     4|      937|\n|Maybe it's just b...|     2|      937|\n|The Road-550-W fr...|     5|      798|\n+--------------------+------+---------+\n\n"
     ]
    }
   ],
   "source": [
    "df_bronze.select(\"ReviewText\", \"Rating\", \"ProductId\").show()\n"
   ]
  },
  {
   "cell_type": "code",
   "execution_count": 0,
   "metadata": {
    "application/vnd.databricks.v1+cell": {
     "cellMetadata": {
      "byteLimit": 2048000,
      "rowLimit": 10000
     },
     "inputWidgets": {},
     "nuid": "76c56661-f49e-4672-80de-023f8c1ea0ba",
     "showTitle": false,
     "title": ""
    }
   },
   "outputs": [],
   "source": [
    "from pyspark.sql import SparkSession\n",
    "\n",
    "spark = SparkSession.builder.appName(\"example\").getOrCreate()\n",
    "\n",
    "df = spark.read.format(\"csv\").option(\"header\",\"true\").option(\"inferschema\",\"true\").load(\"/FileStore/tables/olympics2024.csv\")\n",
    "\n",
    "df.show()\n",
    "\n",
    "df.printSchema()\n",
    "\n",
    "df.write.mode(\"overwrite\").format(\"parquet\").save(\"/FileStore/tables/new_data\")\n",
    "\n",
    "# Original columns: [\"Rank\", \"Country\", \"Country Code\", \"Gold\", \"Silver\", \"Bronze\", \"Total\"]\n",
    "\n",
    "# Clean column names\n",
    "new_columns = [col.replace(' ', '_').replace('|', '') for col in df.columns]\n",
    "df = df.toDF(*new_columns)\n",
    "\n",
    "# Write to Delta format\n",
    "df.write.mode(\"overwrite\").format(\"delta\").save(\"/FileStore/tables/new_data1\")"
   ]
  }
 ],
 "metadata": {
  "application/vnd.databricks.v1+notebook": {
   "dashboards": [],
   "environmentMetadata": null,
   "language": "python",
   "notebookMetadata": {
    "pythonIndentUnit": 4
   },
   "notebookName": "Bronze.py",
   "widgets": {}
  }
 },
 "nbformat": 4,
 "nbformat_minor": 0
}

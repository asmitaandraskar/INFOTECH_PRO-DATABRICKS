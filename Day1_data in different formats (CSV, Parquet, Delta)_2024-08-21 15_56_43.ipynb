{
 "cells": [
  {
   "cell_type": "code",
   "execution_count": 0,
   "metadata": {
    "application/vnd.databricks.v1+cell": {
     "cellMetadata": {},
     "inputWidgets": {},
     "nuid": "b0f57e98-5e7a-4ba0-81f5-02a63866da6c",
     "showTitle": false,
     "title": ""
    }
   },
   "outputs": [],
   "source": [
    "/FileStore/tables/Product_Review.csv"
   ]
  },
  {
   "cell_type": "code",
   "execution_count": 0,
   "metadata": {
    "application/vnd.databricks.v1+cell": {
     "cellMetadata": {
      "byteLimit": 2048000,
      "rowLimit": 10000
     },
     "inputWidgets": {},
     "nuid": "31de7c9d-fa9f-47b2-8f84-558f6291c781",
     "showTitle": false,
     "title": ""
    }
   },
   "outputs": [],
   "source": [
    "from pyspark.sql import SparkSession"
   ]
  },
  {
   "cell_type": "code",
   "execution_count": 0,
   "metadata": {
    "application/vnd.databricks.v1+cell": {
     "cellMetadata": {
      "byteLimit": 2048000,
      "rowLimit": 10000
     },
     "inputWidgets": {},
     "nuid": "a6ed2e7d-0bf8-4ecf-9d4d-b0fee613d37a",
     "showTitle": false,
     "title": ""
    }
   },
   "outputs": [],
   "source": [
    "spark = SparkSession.builder.appName(\"example\").getOrCreate()\n"
   ]
  },
  {
   "cell_type": "code",
   "execution_count": 0,
   "metadata": {
    "application/vnd.databricks.v1+cell": {
     "cellMetadata": {
      "byteLimit": 2048000,
      "rowLimit": 10000
     },
     "inputWidgets": {},
     "nuid": "17813846-a20c-4460-95d5-adde746c45af",
     "showTitle": false,
     "title": ""
    }
   },
   "outputs": [],
   "source": [
    "df = spark.read.format(\"csv\").option(\"header\",\"true\").option(\"inferschema\",\"true\").load(\"/FileStore/tables/Product_Review.csv\")\n"
   ]
  },
  {
   "cell_type": "code",
   "execution_count": 0,
   "metadata": {
    "application/vnd.databricks.v1+cell": {
     "cellMetadata": {
      "byteLimit": 2048000,
      "rowLimit": 10000
     },
     "inputWidgets": {},
     "nuid": "30a3d017-a7de-4ffe-9580-22447f18d17a",
     "showTitle": false,
     "title": ""
    }
   },
   "outputs": [
    {
     "output_type": "stream",
     "name": "stdout",
     "output_type": "stream",
     "text": [
      "+---------+------+------------+----------------+--------------------+------+--------------------+\n|ProductID|UserID|    UserName|      ReviewDate|           UserEmail|Rating|          ReviewText|\n+---------+------+------------+----------------+--------------------+------+--------------------+\n|      709|     1|  John Smith|18-09-2013 00:00|john@fourthcoffee...|     5|I can't believe I...|\n|      937|     2|       David|13-11-2013 00:00|david@graphicdesi...|     4|A little on the h...|\n|      937|     3|        Jill|15-11-2013 00:00|jill@margiestrave...|     2|Maybe it's just b...|\n|      798|     4|Laura Norman|15-11-2013 00:00|laura@treyresearc...|     5|The Road-550-W fr...|\n+---------+------+------------+----------------+--------------------+------+--------------------+\n\n"
     ]
    }
   ],
   "source": [
    "df.show()\n"
   ]
  },
  {
   "cell_type": "code",
   "execution_count": 0,
   "metadata": {
    "application/vnd.databricks.v1+cell": {
     "cellMetadata": {
      "byteLimit": 2048000,
      "rowLimit": 10000
     },
     "inputWidgets": {},
     "nuid": "3694d466-3fab-411e-9b8d-270f01f235b0",
     "showTitle": false,
     "title": ""
    }
   },
   "outputs": [
    {
     "output_type": "stream",
     "name": "stdout",
     "output_type": "stream",
     "text": [
      "root\n |-- ProductID: integer (nullable = true)\n |-- UserID: integer (nullable = true)\n |-- UserName: string (nullable = true)\n |-- ReviewDate: string (nullable = true)\n |-- UserEmail: string (nullable = true)\n |-- Rating: integer (nullable = true)\n |-- ReviewText: string (nullable = true)\n\n"
     ]
    }
   ],
   "source": [
    "df.printSchema()\n"
   ]
  },
  {
   "cell_type": "code",
   "execution_count": 0,
   "metadata": {
    "application/vnd.databricks.v1+cell": {
     "cellMetadata": {
      "byteLimit": 2048000,
      "rowLimit": 10000
     },
     "inputWidgets": {},
     "nuid": "d78d4c1e-6baa-4a0c-99ff-1f1eda2b9487",
     "showTitle": false,
     "title": ""
    }
   },
   "outputs": [],
   "source": [
    "df.write.mode(\"overwrite\").format(\"parquet\").save(\"/FileStore/tables/new_data\")\n"
   ]
  },
  {
   "cell_type": "code",
   "execution_count": 0,
   "metadata": {
    "application/vnd.databricks.v1+cell": {
     "cellMetadata": {
      "byteLimit": 2048000,
      "rowLimit": 10000
     },
     "inputWidgets": {},
     "nuid": "70461146-f8ae-45bc-a26b-eaf269863a93",
     "showTitle": false,
     "title": ""
    }
   },
   "outputs": [],
   "source": [
    "df1=spark.read.format(\"parquet\").load(\"/FileStore/tables/new_data\")"
   ]
  },
  {
   "cell_type": "code",
   "execution_count": 0,
   "metadata": {
    "application/vnd.databricks.v1+cell": {
     "cellMetadata": {
      "byteLimit": 2048000,
      "rowLimit": 10000
     },
     "inputWidgets": {},
     "nuid": "76205af0-b4f1-4f6f-b120-7864623b074a",
     "showTitle": false,
     "title": ""
    }
   },
   "outputs": [
    {
     "output_type": "stream",
     "name": "stdout",
     "output_type": "stream",
     "text": [
      "root\n |-- ProductID: integer (nullable = true)\n |-- UserID: integer (nullable = true)\n |-- UserName: string (nullable = true)\n |-- ReviewDate: string (nullable = true)\n |-- UserEmail: string (nullable = true)\n |-- Rating: integer (nullable = true)\n |-- ReviewText: string (nullable = true)\n\n"
     ]
    }
   ],
   "source": [
    "df1.printSchema()"
   ]
  },
  {
   "cell_type": "code",
   "execution_count": 0,
   "metadata": {
    "application/vnd.databricks.v1+cell": {
     "cellMetadata": {
      "byteLimit": 2048000,
      "rowLimit": 10000
     },
     "inputWidgets": {},
     "nuid": "76e9277e-5085-458a-a22f-7f7ca33b5345",
     "showTitle": false,
     "title": ""
    }
   },
   "outputs": [
    {
     "output_type": "stream",
     "name": "stdout",
     "output_type": "stream",
     "text": [
      "+---------+------+------------+----------------+--------------------+------+--------------------+\n|ProductID|UserID|    UserName|      ReviewDate|           UserEmail|Rating|          ReviewText|\n+---------+------+------------+----------------+--------------------+------+--------------------+\n|      709|     1|  John Smith|18-09-2013 00:00|john@fourthcoffee...|     5|I can't believe I...|\n|      937|     2|       David|13-11-2013 00:00|david@graphicdesi...|     4|A little on the h...|\n|      937|     3|        Jill|15-11-2013 00:00|jill@margiestrave...|     2|Maybe it's just b...|\n|      798|     4|Laura Norman|15-11-2013 00:00|laura@treyresearc...|     5|The Road-550-W fr...|\n+---------+------+------------+----------------+--------------------+------+--------------------+\n\n"
     ]
    }
   ],
   "source": [
    "df1.show()"
   ]
  },
  {
   "cell_type": "code",
   "execution_count": 0,
   "metadata": {
    "application/vnd.databricks.v1+cell": {
     "cellMetadata": {
      "byteLimit": 2048000,
      "rowLimit": 10000
     },
     "inputWidgets": {},
     "nuid": "33be3be4-b9a1-4bc5-afd3-327db62dcb70",
     "showTitle": false,
     "title": ""
    }
   },
   "outputs": [],
   "source": [
    "df.write.mode(\"overwrite\").format(\"delta\").save(\"/FileStore/tables/new_data1\")"
   ]
  },
  {
   "cell_type": "code",
   "execution_count": 0,
   "metadata": {
    "application/vnd.databricks.v1+cell": {
     "cellMetadata": {
      "byteLimit": 2048000,
      "rowLimit": 10000
     },
     "inputWidgets": {},
     "nuid": "faf7da01-8554-4fa7-a24d-831accab1832",
     "showTitle": false,
     "title": ""
    }
   },
   "outputs": [],
   "source": [
    "df2=spark.read.format(\"delta\").load(\"/FileStore/tables/new_data1\")"
   ]
  },
  {
   "cell_type": "code",
   "execution_count": 0,
   "metadata": {
    "application/vnd.databricks.v1+cell": {
     "cellMetadata": {
      "byteLimit": 2048000,
      "rowLimit": 10000
     },
     "inputWidgets": {},
     "nuid": "1d0ddc97-2bc0-42fa-a34e-de79d29cfc84",
     "showTitle": false,
     "title": ""
    }
   },
   "outputs": [
    {
     "output_type": "stream",
     "name": "stdout",
     "output_type": "stream",
     "text": [
      "+---------+------+------------+----------------+--------------------+------+--------------------+\n|ProductID|UserID|    UserName|      ReviewDate|           UserEmail|Rating|          ReviewText|\n+---------+------+------------+----------------+--------------------+------+--------------------+\n|      709|     1|  John Smith|18-09-2013 00:00|john@fourthcoffee...|     5|I can't believe I...|\n|      937|     2|       David|13-11-2013 00:00|david@graphicdesi...|     4|A little on the h...|\n|      937|     3|        Jill|15-11-2013 00:00|jill@margiestrave...|     2|Maybe it's just b...|\n|      798|     4|Laura Norman|15-11-2013 00:00|laura@treyresearc...|     5|The Road-550-W fr...|\n+---------+------+------------+----------------+--------------------+------+--------------------+\n\n"
     ]
    }
   ],
   "source": [
    "df2.show()"
   ]
  },
  {
   "cell_type": "code",
   "execution_count": 0,
   "metadata": {
    "application/vnd.databricks.v1+cell": {
     "cellMetadata": {
      "byteLimit": 2048000,
      "rowLimit": 10000
     },
     "inputWidgets": {},
     "nuid": "f0979862-bfbc-4af8-af7e-239ee08360b0",
     "showTitle": false,
     "title": ""
    }
   },
   "outputs": [
    {
     "output_type": "stream",
     "name": "stdout",
     "output_type": "stream",
     "text": [
      "root\n |-- ProductID: integer (nullable = true)\n |-- UserID: integer (nullable = true)\n |-- UserName: string (nullable = true)\n |-- ReviewDate: string (nullable = true)\n |-- UserEmail: string (nullable = true)\n |-- Rating: integer (nullable = true)\n |-- ReviewText: string (nullable = true)\n\n"
     ]
    }
   ],
   "source": [
    "df2.printSchema()"
   ]
  },
  {
   "cell_type": "code",
   "execution_count": 0,
   "metadata": {
    "application/vnd.databricks.v1+cell": {
     "cellMetadata": {
      "byteLimit": 2048000,
      "rowLimit": 10000
     },
     "inputWidgets": {},
     "nuid": "0493655a-7aec-4808-84b6-1d6f72a315bc",
     "showTitle": false,
     "title": ""
    }
   },
   "outputs": [
    {
     "output_type": "stream",
     "name": "stdout",
     "output_type": "stream",
     "text": [
      "+---------+------+------------+----------------+--------------------+------+--------------------+\n|ProductID|UserID|    UserName|      ReviewDate|           UserEmail|Rating|          ReviewText|\n+---------+------+------------+----------------+--------------------+------+--------------------+\n|      709|     1|  John Smith|18-09-2013 00:00|john@fourthcoffee...|     5|I can't believe I...|\n|      937|     2|       David|13-11-2013 00:00|david@graphicdesi...|     4|A little on the h...|\n|      937|     3|        Jill|15-11-2013 00:00|jill@margiestrave...|     2|Maybe it's just b...|\n|      798|     4|Laura Norman|15-11-2013 00:00|laura@treyresearc...|     5|The Road-550-W fr...|\n+---------+------+------------+----------------+--------------------+------+--------------------+\n\nroot\n |-- ProductID: integer (nullable = true)\n |-- UserID: integer (nullable = true)\n |-- UserName: string (nullable = true)\n |-- ReviewDate: string (nullable = true)\n |-- UserEmail: string (nullable = true)\n |-- Rating: integer (nullable = true)\n |-- ReviewText: string (nullable = true)\n\n+---------+------+------------+----------------+--------------------+------+--------------------+\n|ProductID|UserID|    UserName|      ReviewDate|           UserEmail|Rating|          ReviewText|\n+---------+------+------------+----------------+--------------------+------+--------------------+\n|      709|     1|  John Smith|18-09-2013 00:00|john@fourthcoffee...|     5|I can't believe I...|\n|      937|     2|       David|13-11-2013 00:00|david@graphicdesi...|     4|A little on the h...|\n|      937|     3|        Jill|15-11-2013 00:00|jill@margiestrave...|     2|Maybe it's just b...|\n|      798|     4|Laura Norman|15-11-2013 00:00|laura@treyresearc...|     5|The Road-550-W fr...|\n+---------+------+------------+----------------+--------------------+------+--------------------+\n\nroot\n |-- ProductID: integer (nullable = true)\n |-- UserID: integer (nullable = true)\n |-- UserName: string (nullable = true)\n |-- ReviewDate: string (nullable = true)\n |-- UserEmail: string (nullable = true)\n |-- Rating: integer (nullable = true)\n |-- ReviewText: string (nullable = true)\n\n+---------+------+------------+----------------+--------------------+------+--------------------+\n|ProductID|UserID|    UserName|      ReviewDate|           UserEmail|Rating|          ReviewText|\n+---------+------+------------+----------------+--------------------+------+--------------------+\n|      709|     1|  John Smith|18-09-2013 00:00|john@fourthcoffee...|     5|I can't believe I...|\n|      937|     2|       David|13-11-2013 00:00|david@graphicdesi...|     4|A little on the h...|\n|      937|     3|        Jill|15-11-2013 00:00|jill@margiestrave...|     2|Maybe it's just b...|\n|      798|     4|Laura Norman|15-11-2013 00:00|laura@treyresearc...|     5|The Road-550-W fr...|\n+---------+------+------------+----------------+--------------------+------+--------------------+\n\nroot\n |-- ProductID: integer (nullable = true)\n |-- UserID: integer (nullable = true)\n |-- UserName: string (nullable = true)\n |-- ReviewDate: string (nullable = true)\n |-- UserEmail: string (nullable = true)\n |-- Rating: integer (nullable = true)\n |-- ReviewText: string (nullable = true)\n\n"
     ]
    }
   ],
   "source": [
    "\n",
    "from pyspark.sql import SparkSession\n",
    "spark = SparkSession.builder.appName(\"example\").getOrCreate()\n",
    "df = spark.read.format(\"csv\").option(\"header\",\"true\").option(\"inferschema\",\"true\").load(\"/FileStore/tables/Product_Review.csv\")\n",
    "df.show()\n",
    "df.printSchema()\n",
    "df.write.mode(\"overwrite\").format(\"parquet\").save(\"/FileStore/tables/new_data\")\n",
    "df1=spark.read.format(\"parquet\").load(\"/FileStore/tables/new_data\")\n",
    "df1.show()\n",
    "df1.printSchema()\n",
    "df.write.mode(\"overwrite\").format(\"delta\").save(\"/FileStore/tables/new_data1\")\n",
    "df2=spark.read.format(\"delta\").load(\"/FileStore/tables/new_data1\")\n",
    "df2.show()\n",
    "df2.printSchema()\n"
   ]
  }
 ],
 "metadata": {
  "application/vnd.databricks.v1+notebook": {
   "dashboards": [],
   "environmentMetadata": null,
   "language": "python",
   "notebookMetadata": {
    "pythonIndentUnit": 4
   },
   "notebookName": "Day1_data in different formats (CSV, Parquet, Delta)_2024-08-21 15:56:43",
   "widgets": {}
  }
 },
 "nbformat": 4,
 "nbformat_minor": 0
}
